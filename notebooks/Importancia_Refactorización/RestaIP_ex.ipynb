{
 "cells": [
  {
   "cell_type": "markdown",
   "id": "ee232e56",
   "metadata": {},
   "source": [
    "# Ejemplo: Calculadora de Rango de IPs"
   ]
  },
  {
   "cell_type": "markdown",
   "id": "8d78e389",
   "metadata": {},
   "source": [
    "Objetivo: Crear un programa en Python que solicite al usuario dos direcciones IPv4, una de inicio y una de fin, y calcule cuántas direcciones IP utilizables hay entre ellas."
   ]
  },
  {
   "cell_type": "markdown",
   "id": "45dd96e7",
   "metadata": {},
   "source": [
    "Ejemplos de IPv4 a usar:\n",
    "* IP: 192.168.0.50\n",
    "* IP: 192.168.1.10\n",
    "\n",
    "Salida esperada: 216"
   ]
  },
  {
   "cell_type": "code",
   "execution_count": 1,
   "id": "ce75fa5b",
   "metadata": {},
   "outputs": [
    {
     "name": "stdout",
     "output_type": "stream",
     "text": [
      "Hay `216` direcciones IP entre `192.168.0.50` y `192.168.1.10`.\n"
     ]
    }
   ],
   "source": [
    "A = 192\n",
    "B = 168\n",
    "C = 1\n",
    "D = 10\n",
    "\n",
    "a = A * (256 ** 3) + B * (256 ** 2) + C * 256 + D\n",
    "\n",
    "A = 192\n",
    "B = 168\n",
    "C = 0\n",
    "D = 50\n",
    "\n",
    "b = A * (256 ** 3) + B * (256 ** 2) + C * 256 + D \n",
    "\n",
    "dif = a - b\n",
    "\n",
    "print(f'Hay `{dif}` direcciones IP entre `192.168.0.50` y `192.168.1.10`.')"
   ]
  }
 ],
 "metadata": {
  "kernelspec": {
   "display_name": "clase_muestra_env",
   "language": "python",
   "name": "python3"
  },
  "language_info": {
   "codemirror_mode": {
    "name": "ipython",
    "version": 3
   },
   "file_extension": ".py",
   "mimetype": "text/x-python",
   "name": "python",
   "nbconvert_exporter": "python",
   "pygments_lexer": "ipython3",
   "version": "3.11.13"
  }
 },
 "nbformat": 4,
 "nbformat_minor": 5
}
