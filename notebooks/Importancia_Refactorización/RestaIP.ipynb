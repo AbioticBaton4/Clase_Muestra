{
 "cells": [
  {
   "cell_type": "markdown",
   "id": "ee232e56",
   "metadata": {},
   "source": [
    "# Ejemplo: Calculadora de Rango de IPs"
   ]
  },
  {
   "cell_type": "markdown",
   "id": "8d78e389",
   "metadata": {},
   "source": [
    "Objetivo: Crear un programa en Python que solicite al usuario dos direcciones IPv4, una de inicio y una de fin, y calcule cuántas direcciones IP utilizables hay entre ellas."
   ]
  },
  {
   "cell_type": "markdown",
   "id": "45dd96e7",
   "metadata": {},
   "source": [
    "Ejemplos de IPv4 a usar:\n",
    "* IP: 192.168.0.50\n",
    "* IP: 192.168.1.10\n",
    "\n",
    "Salida esperada: 216"
   ]
  },
  {
   "cell_type": "markdown",
   "id": "810c20c4",
   "metadata": {},
   "source": [
    "### ¿Para qué sirve esto en el mundo real? 🤔\n",
    "\n",
    "Calcular el rango entre direcciones IP es una tarea fundamental para los administradores de redes. Les permite saber cuántos dispositivos (computadoras, teléfonos, etc.) pueden conectarse en un segmento de red específico. Esto es crucial para:\n",
    "\n",
    "* **Planificación de redes:** Asegurarse de que haya suficientes direcciones para todos los dispositivos.\n",
    "* **Seguridad:** Definir reglas de firewall que apliquen a un rango específico de IPs.\n",
    "* **Diagnóstico:** Identificar si un dispositivo está dentro del rango esperado.\n",
    "\n",
    "### ¿Qué es una Dirección IPv4? Un Repaso Rápido\n",
    "\n",
    "Una dirección **IPv4** es como el domicilio de un dispositivo en una red. Se compone de **cuatro números** separados por puntos, a los que llamamos **octetos**.\n",
    "\n",
    "`192.168.1.10` -> `[192]` `[168]` `[1]` `[10]`\n",
    "\n",
    "Cada octeto es, en realidad, un número de 8 bits, lo que significa que su valor solo puede ir de **0** a **255** (porque $2^8 = 256$ valores posibles). Para que las computadoras puedan hacer cálculos con ellas, necesitamos una forma de convertirlas a un número entero único. ¡Y eso es exactamente lo que haremos!"
   ]
  },
  {
   "cell_type": "markdown",
   "id": "8257d08d",
   "metadata": {},
   "source": [
    "## Solución "
   ]
  },
  {
   "cell_type": "markdown",
   "id": "7b19bd46",
   "metadata": {},
   "source": [
    "### La Magia de la Base 256\n",
    "\n",
    "¿Cómo convertimos `A.B.C.D` a un solo número? Usando la misma lógica que usamos con los números decimales (base 10), pero en **base 256**.\n",
    "\n",
    "Pensemos en el número `123`. Realmente significa:\n",
    "$$ (1 \\times 10^2) + (2 \\times 10^1) + (3 \\times 10^0) $$\n",
    "\n",
    "Una dirección IP funciona igual, pero en lugar de potencias de 10, usamos **potencias de 256**, porque cada octeto puede tener 256 valores posibles."
   ]
  },
  {
   "cell_type": "markdown",
   "id": "04a89b33",
   "metadata": {},
   "source": [
    "$$ \\text{Valor Entero} = (A \\times 256^3) + (B \\times 256^2) + (C \\times 256^1) + (D \\times 256^0) $$\n",
    "\n",
    "Como $256^1 = 256$ y $256^0 = 1$, la fórmula simplificada es:\n",
    "\n",
    "$$ \\text{Valor Entero} = (A \\times 16,777,216) + (B \\times 65,536) + (C \\times 256) + D $$\n",
    "\n",
    "---"
   ]
  },
  {
   "cell_type": "markdown",
   "id": "b0d2bddd",
   "metadata": {},
   "source": [
    "### Código"
   ]
  },
  {
   "cell_type": "markdown",
   "id": "170cf5e5",
   "metadata": {},
   "source": [
    "#### **Paso 1: Convertir la IP final a entero**\n"
   ]
  },
  {
   "cell_type": "markdown",
   "id": "136e899b",
   "metadata": {},
   "source": [
    "Para la IP **`192.168.1.10`**:\n",
    "* A = 192\n",
    "* B = 168\n",
    "* C = 1\n",
    "* D = 10"
   ]
  },
  {
   "cell_type": "code",
   "execution_count": 9,
   "id": "ce75fa5b",
   "metadata": {},
   "outputs": [
    {
     "name": "stdout",
     "output_type": "stream",
     "text": [
      "El valor numérico de la dirección IP `192.168.1.10` es 3232235786\n"
     ]
    }
   ],
   "source": [
    "# Definimos el valor de cada octeto\n",
    "A = 192\n",
    "B = 168\n",
    "C = 1\n",
    "D = 10\n",
    "\n",
    "# Calculamos el valor final\n",
    "valor_final = A * (256 ** 3) + B * (256 ** 2) + C * 256 + D \n",
    "# valor_final = A * (16777216) + B * (65536) + C * (256) + D\n",
    "# Mostramos el resultado\n",
    "print(f'El valor numérico de la dirección IP `192.168.1.10` es {valor_final}')"
   ]
  },
  {
   "cell_type": "markdown",
   "id": "19550da8",
   "metadata": {},
   "source": [
    "#### **Paso 2: Convertir la IP inicial a entero**\n",
    "Para la IP **`192.168.0.50`**:"
   ]
  },
  {
   "cell_type": "code",
   "execution_count": 10,
   "id": "0485b792",
   "metadata": {},
   "outputs": [
    {
     "name": "stdout",
     "output_type": "stream",
     "text": [
      "El valor numérico de la dirección IP `192.168.0.50` es 3232235570\n"
     ]
    }
   ],
   "source": [
    "# Definimos el valor de cada octeto\n",
    "A = 192\n",
    "B = 168\n",
    "C = 0\n",
    "D = 50\n",
    "\n",
    "# Calculamos el valor final\n",
    "valor_inicial = A * (256 ** 3) + B * (256 ** 2) + C * 256 + D \n",
    "# valor_inicial = A * (16777216) + B * (65536) + C * (256) + D\n",
    "# Mostramos el resultado\n",
    "print(f'El valor numérico de la dirección IP `192.168.0.50` es {valor_inicial}')"
   ]
  },
  {
   "cell_type": "markdown",
   "id": "f703b08d",
   "metadata": {},
   "source": [
    "#### **Paso 3: Restar los valores enteros**\n",
    "Finalmente, restamos el valor inicial del valor final para encontrar el número de direcciones entre ellas."
   ]
  },
  {
   "cell_type": "code",
   "execution_count": 12,
   "id": "40815887",
   "metadata": {},
   "outputs": [
    {
     "name": "stdout",
     "output_type": "stream",
     "text": [
      "Hay `216` direcciones IP entre `192.168.0.50` y `192.168.1.10`.\n"
     ]
    }
   ],
   "source": [
    "# Calculamos la diferencia\n",
    "diferencia = valor_final - valor_inicial\n",
    "# Mostramos el resultado\n",
    "print(f'Hay `{diferencia}` direcciones IP entre `192.168.0.50` y `192.168.1.10`.')"
   ]
  },
  {
   "cell_type": "markdown",
   "id": "685a5ef4",
   "metadata": {},
   "source": [
    "### Interpretando el Resultado: ¿Cuántos Hosts Utilizables Hay?\n",
    "\n",
    "El número `216` representa la **distancia** numérica entre las dos direcciones IP.\n",
    "\n",
    "* Si quisiéramos contar el **número total de direcciones IP en el rango, incluyendo la inicial y la final**, la fórmula sería `diferencia + 1`.\n",
    "    * En nuestro caso: `216 + 1 = 217` direcciones en total.\n",
    "\n",
    "* Si quisiéramos saber cuántas direcciones hay **entre** las dos, sin incluirlas, la fórmula sería `diferencia - 1`.\n",
    "    * En nuestro caso: `216 - 1 = 215` direcciones intermedias.\n",
    "\n",
    "¡Es un detalle pequeño pero muy importante en redes! Para este ejercicio, nos quedamos con la diferencia directa."
   ]
  },
  {
   "cell_type": "markdown",
   "id": "7342b6e9",
   "metadata": {},
   "source": [
    "## Refactorización: Escribiendo Código Más Limpio y Reutilizable\n",
    "\n",
    "El código anterior funciona, pero repetimos el mismo cálculo dos veces. En programación, seguimos un principio llamado **DRY (Don't Repeat Yourself - No te repitas)**.\n",
    "\n",
    "**Refactorizar** significa mejorar la estructura del código sin cambiar su funcionalidad. Crearemos una **función** para encapsular la lógica de conversión. Esto nos da varias ventajas:\n",
    "\n",
    "1.  **Reutilización:** Podemos llamar a la función cuantas veces queramos sin reescribir la fórmula.\n",
    "2.  **Legibilidad:** El código principal se vuelve más corto y fácil de entender.\n",
    "3.  **Mantenimiento:** Si necesitamos corregir un error en la fórmula, solo lo hacemos en un lugar: dentro de la función.\n",
    "\n",
    "Veamos cómo hacerlo."
   ]
  },
  {
   "cell_type": "code",
   "execution_count": null,
   "id": "ca5b6215",
   "metadata": {},
   "outputs": [
    {
     "name": "stdout",
     "output_type": "stream",
     "text": [
      "El valor numérico de la dirección IP `192.168.1.10` es 3232235786\n",
      "El valor numérico de la dirección IP `192.168.0.50` es 3232235570\n",
      "La diferencia entre las dos direcciones IP es 216\n"
     ]
    }
   ],
   "source": [
    "def ip2num(A, B, C, D):\n",
    "    '''\n",
    "    Convierte una dirección IP en su valor numérico entero.\n",
    "    La dirección IP debe estar en formato 'A.B.C.D', donde A, B, C y D son números entre 0 y 255.\n",
    "    '''\n",
    "    return A * (256 ** 3) + B * (256 ** 2) + C * 256 + D\n",
    "\n",
    "# Convertimos las direcciones IP a números enteros\n",
    "valor_final = ip2num(192, 168, 1, 10)\n",
    "valor_inicial = ip2num(192, 168, 0, 50)\n",
    "\n",
    "# Mostramos los valores numéricos de las direcciones IP\n",
    "print(f'El valor numérico de la dirección IP `192.168.1.10` es {valor_final}')\n",
    "print(f'El valor numérico de la dirección IP `192.168.0.50` es {valor_inicial}')\n",
    "\n",
    "# Calculamos la diferencia entre las dos direcciones IP\n",
    "diferencia = valor_final - valor_inicial\n",
    "print(f'La diferencia entre las dos direcciones IP es {diferencia}')\n"
   ]
  },
  {
   "cell_type": "code",
   "execution_count": null,
   "id": "77071e23",
   "metadata": {},
   "outputs": [
    {
     "name": "stdout",
     "output_type": "stream",
     "text": [
      "El valor numérico de la dirección IP `192.168.1.10` es 3232235786\n",
      "El valor numérico de la dirección IP `192.168.0.50` es 3232235570\n",
      "La diferencia entre las dos direcciones IP es 216\n"
     ]
    }
   ],
   "source": [
    "def ip_a_num(ip):\n",
    "    '''\n",
    "    Convierte una dirección IP en su valor numérico entero.\n",
    "    La dirección IP debe estar en formato 'A.B.C.D', donde A, B, C y D son números entre 0 y 255.\n",
    "    '''\n",
    "    # Dividir la dirección IP en sus octetos\n",
    "    octetos = ip.split('.')\n",
    "    suma = 0 # Inicializar la suma\n",
    "    # Calcular el valor numérico sumando cada octeto multiplicado por su peso\n",
    "    for i, octeto in enumerate(octetos):\n",
    "        suma += int(octeto) * (256 ** (3 - i))\n",
    "    return suma # Retornar el valor numérico entero de la dirección IP\n",
    "\n",
    "# Convertimos las direcciones IP a números enteros\n",
    "valor_inicial = ip_a_num(\"192.168.0.50\")\n",
    "valor_final = ip_a_num(\"192.168.1.10\")\n",
    "\n",
    "# Mostramos los valores numéricos de las direcciones IP\n",
    "print(f'El valor numérico de la dirección IP `192.168.1.10` es {valor_final}')\n",
    "print(f'El valor numérico de la dirección IP `192.168.0.50` es {valor_inicial}')\n",
    "\n",
    "# Calculamos la diferencia entre las dos direcciones IP\n",
    "diferencia = valor_final - valor_inicial\n",
    "print(f'La diferencia entre las dos direcciones IP es {diferencia}')\n"
   ]
  },
  {
   "cell_type": "code",
   "execution_count": null,
   "id": "2cc84457",
   "metadata": {},
   "outputs": [],
   "source": [
    "def ip_a_num(ip:str) -> int:\n",
    "    '''\n",
    "    Convierte una dirección IP en su valor numérico entero.\n",
    "    La dirección IP debe estar en formato 'A.B.C.D', donde A, B, C y D son números entre 0 y 255.\n",
    "    \n",
    "    Parámetros:\n",
    "    - ip: La dirección IP en formato de cadena.\n",
    "\n",
    "    Retorna:\n",
    "    - int: El valor numérico entero de la dirección IP.\n",
    "    '''\n",
    "    return sum(int(octeto) * (256 ** (3 - i)) for i, octeto in enumerate(ip.split('.')))\n",
    "\n",
    "def resta_ip(ip1: str, ip2: str) -> int:\n",
    "    '''\n",
    "    Calcula la diferencia entre dos direcciones IP.\n",
    "    \n",
    "    Parámetros:\n",
    "    - ip1: La primera dirección IP en formato de cadena.\n",
    "    - ip2: La segunda dirección IP en formato de cadena.\n",
    "\n",
    "    Retorna:\n",
    "    - int: La diferencia entre las dos direcciones IP.\n",
    "    '''\n",
    "    return ip2num(ip2) - ip2num(ip1)\n",
    "\n",
    "\n",
    "class IPUtils:\n",
    "    '''\n",
    "    Clase de utilidades para trabajar con direcciones IP.\n",
    "    '''\n",
    "    @staticmethod\n",
    "    def ip_a_num(ip: str) -> int:\n",
    "        '''\n",
    "        Convierte la dirección IP en su valor numérico entero.\n",
    "        '''\n",
    "        pass\n",
    "\n",
    "    @staticmethod\n",
    "    def resta_ip(ip1: str, ip2: str) -> int:\n",
    "        '''\n",
    "        Calcula la diferencia entre dos direcciones IP.\n",
    "        \n",
    "        Parámetros:\n",
    "        - ip1: La primera dirección IP en formato de cadena.\n",
    "        - ip2: La segunda dirección IP en formato de cadena.\n",
    "\n",
    "        Retorna:\n",
    "        - int: La diferencia entre las dos direcciones IP.\n",
    "        '''\n",
    "        pass\n",
    "\n",
    "    @staticmethod\n",
    "    def num_a_ip(num: int) -> str:\n",
    "        '''\n",
    "        Convierte un valor numérico entero en su dirección IP correspondiente.\n",
    "\n",
    "        Parámetros:\n",
    "        - num: El valor numérico entero de la dirección IP.\n",
    "\n",
    "        Retorna:\n",
    "        - str: La dirección IP en formato de cadena.\n",
    "        '''\n",
    "        pass\n"
   ]
  },
  {
   "cell_type": "markdown",
   "id": "40c135f8",
   "metadata": {},
   "source": [
    "Aquí te explico las maneras correctas y las convenciones más comunes para nombrar variables, funciones y clases en programación. Seguir estas reglas hace que tu código sea más legible, fácil de entender y mantener, tanto para ti como para otros desarrolladores.\n",
    "\n",
    "### **Reglas Generales 📜**\n",
    "\n",
    "Independientemente del lenguaje de programación, existen algunas reglas universales:\n",
    "\n",
    "* **Nombres Descriptivos:** El nombre debe describir claramente lo que representa. Evita nombres de una sola letra (como `x` o `y`), a menos que sea en un contexto muy específico como un contador en un bucle (`i`).\n",
    "    * **Mal:** `let d;`\n",
    "    * **Bien:** `let diasTranscurridos;`\n",
    "* **No Usar Palabras Reservadas:** No puedes usar palabras que el lenguaje de programación ya tiene reservadas para su sintaxis (como `if`, `for`, `class`, `while`, etc.).\n",
    "* **Comenzar con una Letra:** Los nombres generalmente deben comenzar con una letra. Algunos lenguajes permiten que comiencen con un guion bajo (`_`) o un símbolo de dólar (`$`), pero esto suele tener un significado especial. Nunca deben empezar con un número.\n",
    "* **Consistencia es Clave:** Elige un estilo y sé consistente a lo largo de todo tu proyecto.\n",
    "\n",
    "---\n",
    "\n",
    "### **1. Variables**\n",
    "\n",
    "Las variables almacenan datos. Sus nombres deben ser sustantivos o frases nominales cortas que describan el dato que contienen. Los dos estilos más populares son:\n",
    "\n",
    "* **camelCase:** La primera palabra comienza con minúscula y las siguientes palabras comienzan con mayúscula, sin espacios. Es el estándar en lenguajes como **JavaScript, Java, y C#**.\n",
    "    * `let nombreDeUsuario = \"JuanPerez\";`\n",
    "    * `const PI = 3.1416;` (Las constantes a menudo se escriben en mayúsculas, `UPPER_CASE_WITH_UNDERSCORES`, para distinguirlas).\n",
    "    * `let edadMaximaPermitida = 99;`\n",
    "\n",
    "* **snake_case:** Todas las palabras están en minúsculas y se separan por un guion bajo. Es el estándar en lenguajes como **Python y Ruby**.\n",
    "    * `nombre_de_usuario = \"JuanPerez\"`\n",
    "    * `PI = 3.1416`\n",
    "    * `edad_maxima_permitida = 99`\n",
    "\n",
    "---\n",
    "\n",
    "### **2. Funciones**\n",
    "\n",
    "Las funciones realizan acciones. Por lo tanto, sus nombres deben ser **verbos** o frases verbales que describan la acción que ejecutan. Al igual que con las variables, se usan principalmente `camelCase` o `snake_case` dependiendo del lenguaje.\n",
    "\n",
    "* **Usa verbos de acción:**\n",
    "    * `calcularImpuesto()`\n",
    "    * `enviarFormulario()`\n",
    "    * `obtenerDatosDelUsuario()`\n",
    "    * `imprimir_reporte()` (en Python)\n",
    "\n",
    "* **Para funciones que devuelven un valor booleano (verdadero/falso), es común empezar con `is`, `has` o `can`:**\n",
    "    * `isLoggedIn()`\n",
    "    * `hasPermission()`\n",
    "    * `canExecute()`\n",
    "\n",
    "La idea es que al leer el nombre de la función, sepas inmediatamente qué hace sin necesidad de ver su código interno.\n",
    "\n",
    "---\n",
    "\n",
    "### **3. Clases**\n",
    "\n",
    "Las clases son plantillas o \"moldes\" para crear objetos. Representan conceptos, cosas o entidades. Por esta razón, sus nombres deben ser **sustantivos** y seguir una convención específica:\n",
    "\n",
    "* **PascalCase (o UpperCamelCase):** Es similar a `camelCase`, pero la primera letra de *todas* las palabras, incluida la primera, es mayúscula. Esta es la convención estándar en la gran mayoría de los lenguajes de programación orientados a objetos como **Java, C++, C#, Python, JavaScript y PHP**.\n",
    "    * `class Usuario { ... }`\n",
    "    * `class GestorDeArchivos { ... }`\n",
    "    * `class FacturaDeVenta { ... }`\n",
    "\n",
    "El uso de `PascalCase` para las clases permite distinguirlas visualmente de las variables y funciones a simple vista.\n",
    "\n",
    "### **Resumen de Estilos por Lenguaje**\n",
    "\n",
    "| Elemento | Estilo Común | Lenguajes de Ejemplo | Ejemplo |\n",
    "| :--- | :--- | :--- | :--- |\n",
    "| **Variables** | `camelCase` | JavaScript, Java, C# | `let numeroDeIntentos;` |\n",
    "| | `snake_case` | Python, Ruby | `numero_de_intentos = 0` |\n",
    "| **Funciones** | `camelCase()` | JavaScript, Java, C# | `function calcularTotal() {}` |\n",
    "| | `snake_case()` | Python, Ruby | `def calcular_total(): pass` |\n",
    "| **Clases** | `PascalCase` | **Casi todos** (Python, Java, JS, C#) | `class HistorialDeCompras {}` |\n",
    "\n",
    "Adoptar estas convenciones no solo es una buena práctica, sino que es fundamental para el trabajo en equipo y para escribir código profesional y sostenible a largo plazo."
   ]
  }
 ],
 "metadata": {
  "kernelspec": {
   "display_name": "Python 3",
   "language": "python",
   "name": "python3"
  },
  "language_info": {
   "codemirror_mode": {
    "name": "ipython",
    "version": 3
   },
   "file_extension": ".py",
   "mimetype": "text/x-python",
   "name": "python",
   "nbconvert_exporter": "python",
   "pygments_lexer": "ipython3",
   "version": "3.12.9"
  }
 },
 "nbformat": 4,
 "nbformat_minor": 5
}
